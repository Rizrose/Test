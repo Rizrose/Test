{
 "cells": [
  {
   "cell_type": "markdown",
   "metadata": {},
   "source": [
    "# Participant \n",
    "Title = 'Dr'\\\n",
    "Name = 'Muhammad Rizwan'\\\n",
    "email = 'rizwanrizrose@gmail.com'\\\n",
    "whatsapp = '03016519293'\n"
   ]
  }
 ],
 "metadata": {
  "language_info": {
   "name": "python"
  },
  "orig_nbformat": 4
 },
 "nbformat": 4,
 "nbformat_minor": 2
}
